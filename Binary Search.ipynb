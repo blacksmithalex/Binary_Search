{
 "cells": [
  {
   "cell_type": "markdown",
   "id": "9756b7fb",
   "metadata": {},
   "source": [
    "# Бинарный поиск"
   ]
  },
  {
   "cell_type": "code",
   "execution_count": 1,
   "id": "af2a64cb",
   "metadata": {},
   "outputs": [],
   "source": [
    "#Левый бинарный поиск\n",
    "def lbs(a, x):\n",
    "    'a - список, x - элемент, который ищем. Хотим получить индекс самого первого вхождения элемента x в a.'\n",
    "    l = -1\n",
    "    r = len(a) - 1\n",
    "    \n",
    "    while l + 1 != r:\n",
    "        c = (l + r) // 2\n",
    "        if a[c] < x:\n",
    "            l = c\n",
    "        else:\n",
    "            r = c\n",
    "    return r  "
   ]
  },
  {
   "cell_type": "code",
   "execution_count": 2,
   "id": "fa19e893",
   "metadata": {},
   "outputs": [],
   "source": [
    "#Правый бинарный поиск\n",
    "def rbs(a, x):\n",
    "    'a - список, x - элемент, который ищем. Хотим получить индекс самого последнего вхождения элемента x в a.'\n",
    "    l = 0\n",
    "    r = len(a)\n",
    "    \n",
    "    while l + 1 != r:\n",
    "        c = (l + r) // 2\n",
    "        if a[c] > x:\n",
    "            r = c\n",
    "        else:\n",
    "            l = c\n",
    "    return l"
   ]
  },
  {
   "cell_type": "markdown",
   "id": "5f281d32",
   "metadata": {},
   "source": [
    "# Смотрим на вывод на разных тестах"
   ]
  },
  {
   "cell_type": "markdown",
   "id": "f128306a",
   "metadata": {},
   "source": [
    "## 1. Все значения уникальны"
   ]
  },
  {
   "cell_type": "code",
   "execution_count": 3,
   "id": "09ffac04",
   "metadata": {},
   "outputs": [
    {
     "name": "stdout",
     "output_type": "stream",
     "text": [
      "7\n",
      "7\n"
     ]
    }
   ],
   "source": [
    "a = [1, 2, 3, 4, 5, 20, 40, 70, 99, 101]\n",
    "x = 70\n",
    "print(lbs(a, x))\n",
    "print(rbs(a, x))"
   ]
  },
  {
   "cell_type": "markdown",
   "id": "0005dbba",
   "metadata": {},
   "source": [
    "### Вывод: результаты правого и левого двоичного поиска совпадают"
   ]
  },
  {
   "cell_type": "markdown",
   "id": "787297a1",
   "metadata": {},
   "source": [
    "## 2. Есть повторения"
   ]
  },
  {
   "cell_type": "code",
   "execution_count": 4,
   "id": "0bcfed6c",
   "metadata": {},
   "outputs": [
    {
     "name": "stdout",
     "output_type": "stream",
     "text": [
      "4\n",
      "10\n"
     ]
    }
   ],
   "source": [
    "a = [1, 2, 3, 4, 5, 5, 5, 5, 5, 5, 5, 20, 40, 70, 99, 101]\n",
    "x = 5\n",
    "print(lbs(a, x))\n",
    "print(rbs(a, x))"
   ]
  },
  {
   "cell_type": "markdown",
   "id": "254c7b8f",
   "metadata": {},
   "source": [
    "### Вывод: левый бинарный поиск дает индекс первого появления слева, правый - последнего появления"
   ]
  },
  {
   "cell_type": "markdown",
   "id": "dbcba880",
   "metadata": {},
   "source": [
    "## 3. Нет элемента x, который мы ищем."
   ]
  },
  {
   "cell_type": "code",
   "execution_count": 6,
   "id": "bcf2e418",
   "metadata": {},
   "outputs": [
    {
     "name": "stdout",
     "output_type": "stream",
     "text": [
      "7\n",
      "6\n"
     ]
    }
   ],
   "source": [
    "a = [1, 2, 3, 4, 5, 5, 5, 20, 40, 70, 99, 101]\n",
    "x = 6\n",
    "print(lbs(a, x))\n",
    "print(rbs(a, x))"
   ]
  },
  {
   "cell_type": "markdown",
   "id": "4a6af1cb",
   "metadata": {},
   "source": [
    "### Вывод: если элемента нет, то левый бинарный поиск дает индекс первого элемента, который больше данного. Правый бинарный поиск в этом случае дает индекс последнего элемента, который меньше данного. "
   ]
  }
 ],
 "metadata": {
  "kernelspec": {
   "display_name": "Python 3",
   "language": "python",
   "name": "python3"
  },
  "language_info": {
   "codemirror_mode": {
    "name": "ipython",
    "version": 3
   },
   "file_extension": ".py",
   "mimetype": "text/x-python",
   "name": "python",
   "nbconvert_exporter": "python",
   "pygments_lexer": "ipython3",
   "version": "3.8.8"
  }
 },
 "nbformat": 4,
 "nbformat_minor": 5
}
